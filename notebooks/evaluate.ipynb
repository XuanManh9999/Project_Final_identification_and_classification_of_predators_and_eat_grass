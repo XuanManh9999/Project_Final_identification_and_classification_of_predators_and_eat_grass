{
 "cells": [
  {
   "cell_type": "code",
   "execution_count": null,
   "metadata": {
    "vscode": {
     "languageId": "plaintext"
    }
   },
   "outputs": [],
   "source": [
    "from tensorflow.keras.models import load_model\n",
    "from tensorflow.keras.preprocessing.image import load_img, img_to_array\n",
    "import numpy as np\n",
    "\n",
    "# Load mô hình đã huấn luyện\n",
    "model = load_model('models/best_model.h5')\n",
    "\n",
    "# Dự đoán với ảnh thử nghiệm\n",
    "img_path = 'data/raw/carnivores/example.jpg'\n",
    "img = load_img(img_path, target_size=(224, 224))\n",
    "img_array = img_to_array(img) / 255.0\n",
    "img_array = np.expand_dims(img_array, axis=0)\n",
    "\n",
    "prediction = model.predict(img_array)\n",
    "if prediction[0][0] > 0.5:\n",
    "    print(\"Động vật ăn thịt\")\n",
    "else:\n",
    "    print(\"Động vật ăn cỏ\")\n"
   ]
  },
  {
   "cell_type": "code",
   "execution_count": null,
   "metadata": {
    "vscode": {
     "languageId": "plaintext"
    }
   },
   "outputs": [],
   "source": []
  }
 ],
 "metadata": {
  "language_info": {
   "name": "python"
  }
 },
 "nbformat": 4,
 "nbformat_minor": 2
}
